{
 "cells": [
  {
   "cell_type": "markdown",
   "metadata": {
    "nbgrader": {}
   },
   "source": [
    "# Project Euler: Problem 8"
   ]
  },
  {
   "cell_type": "markdown",
   "metadata": {
    "nbgrader": {}
   },
   "source": [
    "https://projecteuler.net/problem=8\n",
    "\n",
    "The four adjacent digits in the 1000-digit number that have the greatest product are 9 × 9 × 8 × 9 = 5832.\n",
    "\n",
    "(see the number below)\n",
    "\n",
    "Find the thirteen adjacent digits in the 1000-digit number that have the greatest product. What is the value of this product?\n",
    "\n",
    "Use NumPy for this computation"
   ]
  },
  {
   "cell_type": "code",
   "execution_count": 4,
   "metadata": {
    "collapsed": true,
    "nbgrader": {}
   },
   "outputs": [],
   "source": [
    "import numpy as np"
   ]
  },
  {
   "cell_type": "code",
   "execution_count": 5,
   "metadata": {
    "collapsed": true,
    "nbgrader": {}
   },
   "outputs": [],
   "source": [
    "d1000 = \"\"\"\n",
    "73167176531330624919225119674426574742355349194934\n",
    "96983520312774506326239578318016984801869478851843\n",
    "85861560789112949495459501737958331952853208805511\n",
    "12540698747158523863050715693290963295227443043557\n",
    "66896648950445244523161731856403098711121722383113\n",
    "62229893423380308135336276614282806444486645238749\n",
    "30358907296290491560440772390713810515859307960866\n",
    "70172427121883998797908792274921901699720888093776\n",
    "65727333001053367881220235421809751254540594752243\n",
    "52584907711670556013604839586446706324415722155397\n",
    "53697817977846174064955149290862569321978468622482\n",
    "83972241375657056057490261407972968652414535100474\n",
    "82166370484403199890008895243450658541227588666881\n",
    "16427171479924442928230863465674813919123162824586\n",
    "17866458359124566529476545682848912883142607690042\n",
    "24219022671055626321111109370544217506941658960408\n",
    "07198403850962455444362981230987879927244284909188\n",
    "84580156166097919133875499200524063689912560717606\n",
    "05886116467109405077541002256983155200055935729725\n",
    "71636269561882670428252483600823257530420752963450\n",
    "\"\"\""
   ]
  },
  {
   "cell_type": "code",
   "execution_count": 58,
   "metadata": {
    "collapsed": false,
    "scrolled": true
   },
   "outputs": [
    {
     "name": "stdout",
     "output_type": "stream",
     "text": [
      "5377010688.0\n"
     ]
    }
   ],
   "source": [
    "#solution using Numpy\n",
    "a=np.zeros((20,50))\n",
    "i=1\n",
    "j=0\n",
    "k=0\n",
    "big=1\n",
    "biggest=1\n",
    "count=0\n",
    "while i<1020:\n",
    "    a[j,k]=d1000[i]\n",
    "    if i%(50+(count*51))==0:\n",
    "        j=j+1 #move down one column\n",
    "        i=i+1 #index the string again\n",
    "        k=-1  #reset at the first column\n",
    "        count=count+1 #be ready for next row change    \n",
    "    i=i+1\n",
    "    k=k+1\n",
    "# print(a)\n",
    "    \n",
    "x=0\n",
    "y=0\n",
    "for x in range(20):    \n",
    "    for y in range (38):\n",
    "        b=(a[x,y:y+13])\n",
    "#         print(b)\n",
    "        mult=b.cumprod()\n",
    "#         l=[int(x) for x in mult]    \n",
    "#         print(l)\n",
    "        big=mult[12]\n",
    "        if big>biggest:\n",
    "            biggest=big    \n",
    "print(biggest)\n",
    "\n",
    "\n",
    "\n",
    "\n",
    "# b=(a[j,k:k+4])\n",
    "# mult=b.cumprod()\n",
    "# big=mult[3]\n",
    "# if big>biggest:\n",
    "#         biggest=big       \n",
    "# print(big)\n",
    "\n"
   ]
  },
  {
   "cell_type": "code",
   "execution_count": 28,
   "metadata": {
    "collapsed": false,
    "deletable": false,
    "nbgrader": {
     "checksum": "6cff4e8e53b15273846c3aecaea84a3d",
     "solution": true
    },
    "scrolled": true
   },
   "outputs": [
    {
     "name": "stdout",
     "output_type": "stream",
     "text": [
      "5377010688\n"
     ]
    }
   ],
   "source": [
    "# YOUR CODE HERE\n",
    "#working code for multiplying 4 and 13 numbers not using numpy\n",
    "\n",
    "# i=2\n",
    "# big=1\n",
    "# count =0\n",
    "# while i<1000:\n",
    "#     if i%(48+(count*51))==0:\n",
    "#         i=i+4\n",
    "#         count= count+1\n",
    "#     a=d1000[i:i+4]\n",
    "#     num =1\n",
    "#     for b in a:\n",
    "#         num=num*int(b)\n",
    "#     if num>big:\n",
    "#         big =num\n",
    "#     i=i+1\n",
    "# print (big)\n",
    "\n",
    "i=2\n",
    "big=1\n",
    "count =0\n",
    "while i<1000:#run over the length of the number\n",
    "    if i%(39+(count*51))==0: #if index reaches a non integer move to next line\n",
    "        i=i+13\n",
    "        count= count+1\n",
    "    a=d1000[i:i+13]#create array 13 digits long\n",
    "    num =1\n",
    "    for b in a:#multiply all 13 digits by each other\n",
    "        num=num*int(b)\n",
    "    if num>big: #find the biggest multiplication\n",
    "        big =num\n",
    "    i=i+1#scoot array down one index along rows\n",
    "print (big)\n",
    "   \n"
   ]
  },
  {
   "cell_type": "code",
   "execution_count": null,
   "metadata": {
    "collapsed": true,
    "deletable": false,
    "nbgrader": {
     "checksum": "21332c13eb4f8f18191bd8d47414b7fc",
     "grade": true,
     "grade_id": "projecteuler8",
     "points": 10
    }
   },
   "outputs": [],
   "source": [
    "assert True # leave this for grading"
   ]
  }
 ],
 "metadata": {
  "kernelspec": {
   "display_name": "Python 3",
   "language": "python",
   "name": "python3"
  },
  "language_info": {
   "codemirror_mode": {
    "name": "ipython",
    "version": 3
   },
   "file_extension": ".py",
   "mimetype": "text/x-python",
   "name": "python",
   "nbconvert_exporter": "python",
   "pygments_lexer": "ipython3",
   "version": "3.4.0"
  }
 },
 "nbformat": 4,
 "nbformat_minor": 0
}
