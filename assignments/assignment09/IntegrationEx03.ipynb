{
 "cells": [
  {
   "cell_type": "markdown",
   "metadata": {
    "nbgrader": {}
   },
   "source": [
    "# Integration Exercise 3"
   ]
  },
  {
   "cell_type": "markdown",
   "metadata": {
    "nbgrader": {}
   },
   "source": [
    "## Imports"
   ]
  },
  {
   "cell_type": "code",
   "execution_count": 1,
   "metadata": {
    "collapsed": true,
    "nbgrader": {}
   },
   "outputs": [],
   "source": [
    "%matplotlib inline\n",
    "import matplotlib.pyplot as plt\n",
    "import numpy as np\n",
    "from scipy import integrate\n",
    "from scipy.integrate import dblquad\n"
   ]
  },
  {
   "cell_type": "markdown",
   "metadata": {
    "nbgrader": {}
   },
   "source": [
    "## 2d polar integration"
   ]
  },
  {
   "cell_type": "markdown",
   "metadata": {
    "nbgrader": {}
   },
   "source": [
    "The 2d polar integral of a scalar function $f(r, \\theta)$ is defined as:\n",
    "\n",
    "$$ I(r_{max}) = \\int_0^{r_{max}} \\int_0^{2\\pi} f(r, \\theta) r d\\theta $$\n",
    "\n",
    "Write a function `integrate_polar(f, rmax)` that performs this integral numerically using `scipy.integrate.dblquad`."
   ]
  },
  {
   "cell_type": "code",
   "execution_count": 61,
   "metadata": {
    "collapsed": false,
    "nbgrader": {
     "checksum": "34d34aebbbca8c33e411d1346ba1385b",
     "solution": true
    }
   },
   "outputs": [],
   "source": [
    "def integrate_polar(f, rmax):\n",
    "\n",
    "    from scipy.integrate import dblquad\n",
    "\n",
    "#NOTE: the order of arguments matters - inner to outer\n",
    "    integrand = lambda x,y: x\n",
    "\n",
    "    ymin = 0\n",
    "    ymax = 2*np.pi\n",
    "\n",
    "#The callable functions for the x limits are just constants in this case:\n",
    "    xmin = lambda y : 0\n",
    "    xmax = lambda y : rmax\n",
    "\n",
    "#See the help for correct order of limits\n",
    "    I, err = dblquad(integrand, ymin, ymax, xmin, xmax)\n",
    "    return(I)\n",
    "\n"
   ]
  },
  {
   "cell_type": "code",
   "execution_count": 63,
   "metadata": {
    "collapsed": false,
    "deletable": false,
    "nbgrader": {
     "checksum": "384edec4c155b2fb5e56d024ad47deff",
     "grade": true,
     "grade_id": "integrationex04a",
     "points": 10
    }
   },
   "outputs": [],
   "source": [
    "assert np.allclose(integrate_polar(lambda r,t: 1, 1.0), np.pi)\n",
    "assert np.allclose(integrate_polar(lambda r, t: np.exp(-r)*(np.cos(t)**2), np.inf), np.pi)"
   ]
  },
  {
   "cell_type": "code",
   "execution_count": null,
   "metadata": {
    "collapsed": true
   },
   "outputs": [],
   "source": []
  },
  {
   "cell_type": "code",
   "execution_count": null,
   "metadata": {
    "collapsed": true
   },
   "outputs": [],
   "source": []
  },
  {
   "cell_type": "code",
   "execution_count": null,
   "metadata": {
    "collapsed": true
   },
   "outputs": [],
   "source": []
  },
  {
   "cell_type": "code",
   "execution_count": null,
   "metadata": {
    "collapsed": true
   },
   "outputs": [],
   "source": []
  }
 ],
 "metadata": {
  "kernelspec": {
   "display_name": "Python 3",
   "language": "python",
   "name": "python3"
  },
  "language_info": {
   "codemirror_mode": {
    "name": "ipython",
    "version": 3
   },
   "file_extension": ".py",
   "mimetype": "text/x-python",
   "name": "python",
   "nbconvert_exporter": "python",
   "pygments_lexer": "ipython3",
   "version": "3.4.0"
  }
 },
 "nbformat": 4,
 "nbformat_minor": 0
}
