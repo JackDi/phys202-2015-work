{
 "cells": [
  {
   "cell_type": "markdown",
   "metadata": {
    "nbgrader": {}
   },
   "source": [
    "# Project Euler: Problem 9"
   ]
  },
  {
   "cell_type": "markdown",
   "metadata": {
    "nbgrader": {}
   },
   "source": [
    "https://projecteuler.net/problem=9\n",
    "\n",
    "A Pythagorean triplet is a set of three natural numbers, $a < b < c$, for which,\n",
    "\n",
    "$$a^2 + b^2 = c^2$$\n",
    "\n",
    "For example, $3^2 + 4^2 = 9 + 16 = 25 = 5^2$.\n",
    "\n",
    "There exists exactly one Pythagorean triplet for which $a + b + c = 1000$. Find the product abc."
   ]
  },
  {
   "cell_type": "code",
   "execution_count": 31,
   "metadata": {
    "collapsed": false,
    "deletable": false,
    "nbgrader": {
     "checksum": "6cff4e8e53b15273846c3aecaea84a3d",
     "solution": true
    }
   },
   "outputs": [],
   "source": [
    "# YOUR CODE HERE\n",
    "def is_sum(a,b,c):\n",
    "    if a+b+c==1000:\n",
    "        print (\"tru\")\n",
    "        return 1\n",
    "    else:\n",
    "        print (\"nah\")\n",
    "        return 0"
   ]
  },
  {
   "cell_type": "code",
   "execution_count": 36,
   "metadata": {
    "collapsed": false
   },
   "outputs": [
    {
     "name": "stdout",
     "output_type": "stream",
     "text": [
      "First number1\n",
      "Second number2\n",
      "Third number3\n",
      "nah\n"
     ]
    },
    {
     "data": {
      "text/plain": [
       "0"
      ]
     },
     "execution_count": 36,
     "metadata": {},
     "output_type": "execute_result"
    }
   ],
   "source": [
    "import math\n",
    "a= int(input(\"First number: \"))\n",
    "b= int(input(\"Second number: \"))\n",
    "c= int(input(\"Third number: \"))\n",
    "def pythag(a,b):\n",
    "    c=math.sqrt(a**2+b**2)\n",
    "    return c\n",
    "    print (c)\n",
    "    \n",
    "is_sum(a,b,c)"
   ]
  },
  {
   "cell_type": "code",
   "execution_count": 1,
   "metadata": {
    "collapsed": false,
    "scrolled": false
   },
   "outputs": [
    {
     "name": "stdout",
     "output_type": "stream",
     "text": [
      "The three numbers are: \n",
      "a=200 b=375 c=425.0\n",
      "a*b*c=31875000.0\n"
     ]
    }
   ],
   "source": [
    "import math\n",
    "x=1\n",
    "y=1\n",
    "\n",
    "while x < 1000:\n",
    "    while y < 1000:\n",
    "        c=math.sqrt(x**2+y**2)\n",
    "        if x+y+c==1000.0:\n",
    "            print(\"The three numbers are: \")\n",
    "            print(\"a=%s b=%s c=%s\"%(x,y,c))\n",
    "            d=x*y*c\n",
    "            print ('a*b*c=%s'%(d))\n",
    "            x=1001\n",
    "            y=1001\n",
    "        y=y+1\n",
    "    y=1\n",
    "    x=x+1\n"
   ]
  },
  {
   "cell_type": "code",
   "execution_count": null,
   "metadata": {
    "collapsed": true,
    "deletable": false,
    "nbgrader": {
     "checksum": "b69b04efdc2f53ed5e3904c5ed86c12e",
     "grade": true,
     "grade_id": "projecteuler9",
     "points": 10
    }
   },
   "outputs": [],
   "source": [
    "# This cell will be used for grading, leave it at the end of the notebook."
   ]
  }
 ],
 "metadata": {
  "kernelspec": {
   "display_name": "Python 3",
   "language": "python",
   "name": "python3"
  },
  "language_info": {
   "codemirror_mode": {
    "name": "ipython",
    "version": 3
   },
   "file_extension": ".py",
   "mimetype": "text/x-python",
   "name": "python",
   "nbconvert_exporter": "python",
   "pygments_lexer": "ipython3",
   "version": "3.4.0"
  }
 },
 "nbformat": 4,
 "nbformat_minor": 0
}
