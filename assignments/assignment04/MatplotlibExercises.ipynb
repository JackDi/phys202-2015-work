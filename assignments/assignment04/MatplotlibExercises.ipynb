{
 "cells": [
  {
   "cell_type": "markdown",
   "metadata": {},
   "source": [
    "# Visualization 1: Matplotlib Basics Exercises"
   ]
  },
  {
   "cell_type": "code",
   "execution_count": 1,
   "metadata": {
    "collapsed": false
   },
   "outputs": [],
   "source": [
    "%matplotlib inline\n",
    "import matplotlib.pyplot as plt\n",
    "import numpy as np"
   ]
  },
  {
   "cell_type": "markdown",
   "metadata": {},
   "source": [
    "## Scatter plots"
   ]
  },
  {
   "cell_type": "markdown",
   "metadata": {},
   "source": [
    "Learn how to use Matplotlib's `plt.scatter` function to make a 2d scatter plot.\n",
    "\n",
    "* Generate random data using `np.random.randn`.\n",
    "* Style the markers (color, size, shape, alpha) appropriately.\n",
    "* Include an x and y label and title."
   ]
  },
  {
   "cell_type": "code",
   "execution_count": 41,
   "metadata": {
    "collapsed": false
   },
   "outputs": [
    {
     "data": {
      "text/plain": [
       "<matplotlib.text.Text at 0x7fc38338cb90>"
      ]
     },
     "execution_count": 41,
     "metadata": {},
     "output_type": "execute_result"
    },
    {
     "data": {
      "image/png": "[encoded data removed]",
      "text/plain": [
       "<matplotlib.figure.Figure at 0x7fc38250ab10>"
      ]
     },
     "metadata": {},
     "output_type": "display_data"
    }
   ],
   "source": [
    "scatx=np.random.rand(50)\n",
    "scaty=np.random.randn(50)\n",
    "f= plt.figure(figsize=(9,6))\n",
    "plt.scatter(scatx,scaty,c=u'k',marker=u'o',alpha=1)\n",
    "plt.xlabel('X')\n",
    "plt.ylabel('Y')\n",
    "plt.title(\"Scatter Plot of A Set of Random Data\")\n"
   ]
  },
  {
   "cell_type": "markdown",
   "metadata": {},
   "source": [
    "## Histogram"
   ]
  },
  {
   "cell_type": "markdown",
   "metadata": {},
   "source": [
    "Learn how to use Matplotlib's `plt.hist` function to make a 1d histogram.\n",
    "\n",
    "* Generate randpom data using `np.random.randn`.\n",
    "* Figure out how to set the number of histogram bins and other style options.\n",
    "* Include an x and y label and title."
   ]
  },
  {
   "cell_type": "code",
   "execution_count": 35,
   "metadata": {
    "collapsed": false
   },
   "outputs": [
    {
     "data": {
      "text/plain": [
       "(array([ 2.01763289,  0.        ,  1.00881645,  1.00881645,  1.00881645,\n",
       "         5.04408224,  1.00881645,  2.01763289,  4.03526579,  1.00881645,\n",
       "         1.00881645,  0.        ,  0.        ,  0.        ,  0.        ,\n",
       "         0.        ,  0.        ,  0.        ,  0.        ,  0.        ,\n",
       "         2.01763289,  1.00881645,  0.        ,  2.01763289,  0.        ,\n",
       "         2.01763289,  1.00881645,  2.01763289,  0.        ,  1.00881645,\n",
       "         0.        ,  1.00881645,  2.01763289,  1.00881645,  1.00881645,\n",
       "         1.00881645,  0.        ,  0.        ,  3.02644934,  1.00881645,\n",
       "         2.01763289,  0.        ,  1.00881645,  0.        ,  3.02644934,\n",
       "         0.        ,  2.01763289,  0.        ,  0.        ,  2.01763289]),\n",
       " array([ 0.00724915,  0.02707436,  0.04689957,  0.06672478,  0.08654999,\n",
       "         0.10637521,  0.12620042,  0.14602563,  0.16585084,  0.18567606,\n",
       "         0.20550127,  0.22532648,  0.24515169,  0.2649769 ,  0.28480212,\n",
       "         0.30462733,  0.32445254,  0.34427775,  0.36410296,  0.38392818,\n",
       "         0.40375339,  0.4235786 ,  0.44340381,  0.46322902,  0.48305424,\n",
       "         0.50287945,  0.52270466,  0.54252987,  0.56235508,  0.5821803 ,\n",
       "         0.60200551,  0.62183072,  0.64165593,  0.66148114,  0.68130636,\n",
       "         0.70113157,  0.72095678,  0.74078199,  0.7606072 ,  0.78043242,\n",
       "         0.80025763,  0.82008284,  0.83990805,  0.85973327,  0.87955848,\n",
       "         0.89938369,  0.9192089 ,  0.93903411,  0.95885933,  0.97868454,\n",
       "         0.99850975]),\n",
       " <a list of 50 Patch objects>)"
      ]
     },
     "execution_count": 35,
     "metadata": {},
     "output_type": "execute_result"
    },
    {
     "data": {
      "image/png": "[encoded data removed]",
      "text/plain": [
       "<matplotlib.figure.Figure at 0x7fc382a83710>"
      ]
     },
     "metadata": {},
     "output_type": "display_data"
    }
   ],
   "source": [
    "x= np.random.rand(50)\n",
    "plt.hist(x)\n",
    "plt.xlabel(\"X\")\n",
    "plt.ylabel(\"Y\")\n",
    "plt.title(\"One Dimensional Histogram of a Random Set of Data\")\n",
    "plt.hist(x,bins=50, normed=True, facecolor=\"r\",stacked=False)\n"
   ]
  },
  {
   "cell_type": "code",
   "execution_count": null,
   "metadata": {
    "collapsed": true
   },
   "outputs": [],
   "source": []
  },
  {
   "cell_type": "code",
   "execution_count": null,
   "metadata": {
    "collapsed": true
   },
   "outputs": [],
   "source": []
  }
 ],
 "metadata": {
  "kernelspec": {
   "display_name": "Python 2",
   "language": "python",
   "name": "python2"
  },
  "language_info": {
   "codemirror_mode": {
    "name": "ipython",
    "version": 2
   },
   "file_extension": ".py",
   "mimetype": "text/x-python",
   "name": "python",
   "nbconvert_exporter": "python",
   "pygments_lexer": "ipython2",
   "version": "2.7.6"
  }
 },
 "nbformat": 4,
 "nbformat_minor": 0
}
