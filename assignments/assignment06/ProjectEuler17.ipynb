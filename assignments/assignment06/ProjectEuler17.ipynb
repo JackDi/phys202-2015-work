{
 "cells": [
  {
   "cell_type": "markdown",
   "metadata": {
    "nbgrader": {}
   },
   "source": [
    "# Project Euler: Problem 17"
   ]
  },
  {
   "cell_type": "markdown",
   "metadata": {
    "nbgrader": {}
   },
   "source": [
    "https://projecteuler.net/problem=17\n",
    "\n",
    "If the numbers 1 to 5 are written out in words: one, two, three, four, five, then there are 3 + 3 + 5 + 4 + 4 = 19 letters used in total.\n",
    "\n",
    "If all the numbers from 1 to 1000 (one thousand) inclusive were written out in words, how many letters would be used?\n",
    "\n",
    "\n",
    "NOTE: Do not count spaces or hyphens. For example, 342 (three hundred and forty-two) contains 23 letters and 115 (one hundred and fifteen) contains 20 letters. The use of \"and\" when writing out numbers is in compliance with British usage."
   ]
  },
  {
   "cell_type": "code",
   "execution_count": 1,
   "metadata": {
    "collapsed": false
   },
   "outputs": [],
   "source": [
    "number={}\n",
    "number[0]=\"zero\"\n",
    "number[1]=\"one\"\n",
    "number[2]=\"two\"\n",
    "number[3]=\"three\"\n",
    "number[4]='four'\n",
    "number[5]='five'\n",
    "number[6]='six'\n",
    "number[7]='seven'\n",
    "number[8]='eight'\n",
    "number[9]='nine'\n",
    "number[10]='ten'\n",
    "number[11]='eleven'\n",
    "number[12]='twelve'\n",
    "number[13]='thirteen'\n",
    "number[14]='fourteen'\n",
    "number[15]='fifteen'\n",
    "number[16]='teen'\n",
    "number[20]='twenty'\n",
    "number[30]='thirty'\n",
    "number[40]='forty'\n",
    "number[50]='fifty'\n",
    "number[60]='sixty'\n",
    "number[70]='seventy'\n",
    "number[80]='eighty'\n",
    "number[90]='ninety'\n",
    "number[17]='and'\n",
    "number[100]='hundred'\n",
    "number[1000]='thousand'\n",
    "\n"
   ]
  },
  {
   "cell_type": "markdown",
   "metadata": {
    "nbgrader": {}
   },
   "source": [
    "First write a `number_to_words(n)` function that takes an integer `n` between 1 and 1000 inclusive and returns a list of words for the number as described above"
   ]
  },
  {
   "cell_type": "code",
   "execution_count": 23,
   "metadata": {
    "collapsed": false,
    "nbgrader": {
     "checksum": "790b69a83b63d5a31b5fac1451dd3b54",
     "solution": true
    }
   },
   "outputs": [
    {
     "data": {
      "text/plain": [
       "'sevenhundredandsixtyseven'"
      ]
     },
     "execution_count": 23,
     "metadata": {},
     "output_type": "execute_result"
    }
   ],
   "source": [
    "num=[]\n",
    "def number_to_words(n):\n",
    "    \"\"\"Given a number n between 1-1000 inclusive return a list of words for the number.\"\"\"\n",
    "    if n<16:\n",
    "        return number[n]\n",
    "    if n>15 and n<20:\n",
    "        num=number[n-10]+number[16]\n",
    "        return num\n",
    "    if n>19 and n<31:\n",
    "        num=number[20]+number[n-20]\n",
    "        return num\n",
    "    if n>29 and n<41:\n",
    "        num=number[30]+number[n-30]\n",
    "        return num    \n",
    "    if n>39 and n<51:\n",
    "        num=number[40]+number[n-40]\n",
    "        return num    \n",
    "    if n>49 and n<61:\n",
    "        num=number[50]+number[n-50]\n",
    "        return num\n",
    "    if n>59 and n<71:\n",
    "        num=number[60]+number[n-60]\n",
    "        return num    \n",
    "    if n>69 and n<81:\n",
    "        num=number[70]+number[n-70]\n",
    "        return num   \n",
    "    if n>79 and n<91:\n",
    "        num=number[80]+number[n-80]\n",
    "        return num\n",
    "    if n>89 and n<101:\n",
    "        num=number[90]+number[n-90]\n",
    "        return num    \n",
    "    if n>99 and n<200:\n",
    "        num= number[1]+number[100]+ number[17] + number_to_words(n-100)\n",
    "        return num\n",
    "    if n>199 and n<300:\n",
    "        num= number[2]+number[100]+ number[17] + number_to_words(n-200)\n",
    "        return num    \n",
    "    if n>299 and n<400:\n",
    "        num= number[3]+number[100]+ number[17] + number_to_words(n-300)\n",
    "        return num\n",
    "    if n>399 and n<500:\n",
    "        num= number[4]+number[100]+ number[17] + number_to_words(n-400)\n",
    "        return num   \n",
    "    if n>499 and n<600:\n",
    "        num= number[5]+number[100]+ number[17] + number_to_words(n-500)\n",
    "        return num\n",
    "    if n>599 and n<700:\n",
    "        num= number[6]+number[100]+ number[17] + number_to_words(n-600)\n",
    "        return num    \n",
    "    if n>699 and n<800:\n",
    "        num= number[7]+number[100]+ number[17] + number_to_words(n-700)\n",
    "        return num\n",
    "    if n>799 and n<900:\n",
    "        num= number[8]+number[100]+ number[17] + number_to_words(n-800)\n",
    "        return num    \n",
    "    if n>899 and n<1000:\n",
    "        num= number[9]+number[100]+ number[17] + number_to_words(n-900)\n",
    "        return num\n",
    "\n",
    "# number\n",
    "# len(number[100])\n",
    "\n",
    "number_to_words(767)"
   ]
  },
  {
   "cell_type": "markdown",
   "metadata": {},
   "source": []
  },
  {
   "cell_type": "markdown",
   "metadata": {
    "nbgrader": {}
   },
   "source": [
    "Now write a set of `assert` tests for your `number_to_words` function that verifies that it is working as expected."
   ]
  },
  {
   "cell_type": "code",
   "execution_count": 24,
   "metadata": {
    "collapsed": false,
    "deletable": false,
    "nbgrader": {
     "checksum": "6cff4e8e53b15273846c3aecaea84a3d",
     "solution": true
    }
   },
   "outputs": [],
   "source": [
    "# YOUR CODE HERE\n",
    "assert number_to_words(342)=='threehundredandfortytwo'\n",
    "assert number_to_words(115)=='onehundredandfifteen'"
   ]
  },
  {
   "cell_type": "code",
   "execution_count": 4,
   "metadata": {
    "collapsed": true,
    "deletable": false,
    "nbgrader": {
     "checksum": "2c71c0f9dbe2a57b1ddc17bf544d86ed",
     "grade": true,
     "grade_id": "projecteuler17a",
     "points": 4
    }
   },
   "outputs": [],
   "source": [
    "assert True # use this for grading the number_to_words tests."
   ]
  },
  {
   "cell_type": "markdown",
   "metadata": {
    "nbgrader": {}
   },
   "source": [
    "Now define a `count_letters(n)` that returns the number of letters used to write out the words for all of the the numbers `1` to `n` inclusive."
   ]
  },
  {
   "cell_type": "code",
   "execution_count": 22,
   "metadata": {
    "collapsed": false,
    "nbgrader": {
     "checksum": "be228a805b41eda2b30887a53523f76b",
     "solution": true
    }
   },
   "outputs": [
    {
     "data": {
      "text/plain": [
       "1158"
      ]
     },
     "execution_count": 22,
     "metadata": {},
     "output_type": "execute_result"
    }
   ],
   "source": [
    "\n",
    "def count_letters(n):\n",
    "    \"\"\"Count the number of letters used to write out the words for 1-n inclusive.\"\"\"\n",
    "    count=0\n",
    "    while n>0:\n",
    "        L=number_to_words(n)\n",
    "        count=count+len(L)\n",
    "        n=n-1\n",
    "    return count\n",
    "\n",
    "count_letters(115)"
   ]
  },
  {
   "cell_type": "markdown",
   "metadata": {
    "nbgrader": {}
   },
   "source": [
    "Now write a set of `assert` tests for your `count_letters` function that verifies that it is working as expected."
   ]
  },
  {
   "cell_type": "code",
   "execution_count": 21,
   "metadata": {
    "collapsed": false,
    "deletable": false,
    "nbgrader": {
     "checksum": "6cff4e8e53b15273846c3aecaea84a3d",
     "solution": true
    }
   },
   "outputs": [],
   "source": [
    "# YOUR CODE HERE\n",
    "assert count_letters(5)==19 \n",
    "assert count_letters(10)==39"
   ]
  },
  {
   "cell_type": "code",
   "execution_count": 17,
   "metadata": {
    "collapsed": true,
    "deletable": false,
    "nbgrader": {
     "checksum": "3a06c9610681f0174008f2976e310e0a",
     "grade": true,
     "grade_id": "projecteuler17b",
     "points": 4
    }
   },
   "outputs": [],
   "source": [
    "assert True # use this for grading the count_letters tests."
   ]
  },
  {
   "cell_type": "markdown",
   "metadata": {
    "nbgrader": {}
   },
   "source": [
    "Finally used your `count_letters` function to solve the original question."
   ]
  },
  {
   "cell_type": "code",
   "execution_count": 20,
   "metadata": {
    "collapsed": false,
    "deletable": false,
    "nbgrader": {
     "checksum": "6cff4e8e53b15273846c3aecaea84a3d",
     "solution": true
    }
   },
   "outputs": [
    {
     "data": {
      "text/plain": [
       "21428"
      ]
     },
     "execution_count": 20,
     "metadata": {},
     "output_type": "execute_result"
    }
   ],
   "source": [
    "# YOUR CODE HERE\n",
    "count_letters(999)\n"
   ]
  },
  {
   "cell_type": "markdown",
   "metadata": {
    "collapsed": true,
    "deletable": false,
    "nbgrader": {
     "checksum": "a136658e13c4f1154caf307a2e852f99",
     "grade": true,
     "grade_id": "projecteuler17c",
     "points": 2
    }
   },
   "source": [
    "# assert True # use this for gradig the answer to the original question."
   ]
  },
  {
   "cell_type": "code",
   "execution_count": null,
   "metadata": {
    "collapsed": true
   },
   "outputs": [],
   "source": []
  },
  {
   "cell_type": "code",
   "execution_count": null,
   "metadata": {
    "collapsed": true
   },
   "outputs": [],
   "source": []
  }
 ],
 "metadata": {
  "kernelspec": {
   "display_name": "Python 3",
   "language": "python",
   "name": "python3"
  },
  "language_info": {
   "codemirror_mode": {
    "name": "ipython",
    "version": 3
   },
   "file_extension": ".py",
   "mimetype": "text/x-python",
   "name": "python",
   "nbconvert_exporter": "python",
   "pygments_lexer": "ipython3",
   "version": "3.4.0"
  }
 },
 "nbformat": 4,
 "nbformat_minor": 0
}
